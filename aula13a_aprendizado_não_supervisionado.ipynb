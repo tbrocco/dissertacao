{
  "nbformat": 4,
  "nbformat_minor": 0,
  "metadata": {
    "colab": {
      "provenance": [],
      "include_colab_link": true
    },
    "kernelspec": {
      "name": "python3",
      "display_name": "Python 3"
    },
    "language_info": {
      "name": "python"
    }
  },
  "cells": [
    {
      "cell_type": "markdown",
      "metadata": {
        "id": "view-in-github",
        "colab_type": "text"
      },
      "source": [
        "<a href=\"https://colab.research.google.com/github/tbrocco/dissertacao/blob/add/aula13a_aprendizado_n%C3%A3o_supervisionado.ipynb\" target=\"_parent\"><img src=\"https://colab.research.google.com/assets/colab-badge.svg\" alt=\"Open In Colab\"/></a>"
      ]
    },
    {
      "cell_type": "code",
      "execution_count": 4,
      "metadata": {
        "colab": {
          "base_uri": "https://localhost:8080/"
        },
        "id": "h0JYUxt40wLK",
        "outputId": "406f7550-7dc3-44a6-8aba-c0a121af964e"
      },
      "outputs": [
        {
          "output_type": "stream",
          "name": "stdout",
          "text": [
            "Acurácia usando KMeans: 0.3333\n",
            "Acurácia usando KNN: 0.9667\n"
          ]
        },
        {
          "output_type": "stream",
          "name": "stderr",
          "text": [
            "/usr/local/lib/python3.10/dist-packages/sklearn/cluster/_kmeans.py:870: FutureWarning: The default value of `n_init` will change from 10 to 'auto' in 1.4. Set the value of `n_init` explicitly to suppress the warning\n",
            "  warnings.warn(\n"
          ]
        }
      ],
      "source": [
        "from sklearn import datasets\n",
        "from sklearn.cluster import KMeans\n",
        "from sklearn.neighbors import KNeighborsClassifier\n",
        "from sklearn.model_selection import train_test_split\n",
        "from sklearn.metrics import accuracy_score\n",
        "\n",
        "iris = datasets.load_iris()\n",
        "X, y = iris.data, iris.target\n",
        "\n",
        "# apenas as últimas TRES características\n",
        "X_ultimas_features = X[:, -3:]\n",
        "\n",
        "# ------------------KMeans-------------------------\n",
        "kmeans = KMeans(n_clusters=5, random_state=42)\n",
        "kmeans.fit(X_ultimas_features)\n",
        "\n",
        "# pegar os labels de cada amostra\n",
        "kmeans_labels = kmeans.labels_\n",
        "\n",
        "# Divisão para treino e teste\n",
        "X_train, X_test, y_train, y_test = train_test_split(X_ultimas_features, y, test_size=0.2, random_state=42)\n",
        "\n",
        "\n",
        "# -----------------KNN---------------\n",
        "knn_classifier = KNeighborsClassifier(n_neighbors=3)\n",
        "knn_classifier.fit(X_train, y_train)\n",
        "\n",
        "# KMeans x KNN\n",
        "kmeans_predictions = kmeans.predict(X_test)\n",
        "knn_predictions = knn_classifier.predict(X_test)\n",
        "\n",
        "# Avaliar a acurácia das previsões\n",
        "accuracy_kmeans = accuracy_score(y_test, kmeans_predictions)\n",
        "accuracy_knn = accuracy_score(y_test, knn_predictions)\n",
        "\n",
        "print(f'Acurácia usando KMeans: {accuracy_kmeans:.4f}')\n",
        "print(f'Acurácia usando KNN: {accuracy_knn:.4f}')\n"
      ]
    }
  ]
}